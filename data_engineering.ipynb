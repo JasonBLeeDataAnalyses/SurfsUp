{
 "cells": [
  {
   "cell_type": "code",
   "execution_count": 1,
   "metadata": {
    "collapsed": true
   },
   "outputs": [],
   "source": [
    "# import statements\n",
    "import pandas as pd\n",
    "import numpy as np\n",
    "import csv\n"
   ]
  },
  {
   "cell_type": "code",
   "execution_count": 2,
   "metadata": {
    "collapsed": true
   },
   "outputs": [],
   "source": [
    "measurements_csv = 'Resources/hawaii_measurements.csv'\n",
    "stations_csv = 'Resources/hawaii_stations.csv'\n",
    "\n",
    "measure_data = pd.read_csv(measurements_csv)\n",
    "station_data = pd.read_csv(stations_csv)\n",
    "\n",
    "all_data = pd.merge(measure_data, station_data, how = 'left', on = ['station', 'station'])"
   ]
  },
  {
   "cell_type": "code",
   "execution_count": 3,
   "metadata": {},
   "outputs": [
    {
     "data": {
      "text/plain": [
       "station      18103\n",
       "date         18103\n",
       "prcp         18103\n",
       "tobs         18103\n",
       "name         18103\n",
       "latitude     18103\n",
       "longitude    18103\n",
       "elevation    18103\n",
       "dtype: int64"
      ]
     },
     "execution_count": 3,
     "metadata": {},
     "output_type": "execute_result"
    }
   ],
   "source": [
    "# Drop row entries with 'NaN' in ['prcp']\n",
    "\n",
    "# all_data.describe\n",
    "# all_data.head(5)\n",
    "# all_data[all_data['prcp'].isnull()].head(5)\n",
    "df = all_data[pd.notnull(all_data['prcp'])]\n",
    "df.count()"
   ]
  },
  {
   "cell_type": "code",
   "execution_count": 4,
   "metadata": {
    "collapsed": true
   },
   "outputs": [],
   "source": [
    "# Print out to CSV files with prefix 'Clean__'\n",
    "\n",
    "df.to_csv('Clean/clean_all_data.csv', sep=',', encoding='utf-8')"
   ]
  },
  {
   "cell_type": "code",
   "execution_count": 7,
   "metadata": {},
   "outputs": [],
   "source": [
    "station_data.columns = ['station','name','latitude','longitude','elevation']\n",
    "station_data.to_csv('Clean/clean_hawaii_stations.csv', sep=',', encoding='utf-8')\n",
    "\n",
    "clean_measure = measure_data[pd.notnull(measure_data['prcp'])]\n",
    "clean_measure.columns = ['station','date','prcp','tobs']\n",
    "clean_measure.to_csv('Clean/clean_hawaii_measurements.csv', sep=',', encoding='utf-8')"
   ]
  },
  {
   "cell_type": "code",
   "execution_count": null,
   "metadata": {
    "collapsed": true
   },
   "outputs": [],
   "source": []
  }
 ],
 "metadata": {
  "kernelspec": {
   "display_name": "Python [conda env:PythonData]",
   "language": "python",
   "name": "conda-env-PythonData-py"
  },
  "language_info": {
   "codemirror_mode": {
    "name": "ipython",
    "version": 3
   },
   "file_extension": ".py",
   "mimetype": "text/x-python",
   "name": "python",
   "nbconvert_exporter": "python",
   "pygments_lexer": "ipython3",
   "version": "3.6.3"
  }
 },
 "nbformat": 4,
 "nbformat_minor": 2
}
